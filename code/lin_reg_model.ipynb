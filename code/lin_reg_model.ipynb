{
 "cells": [
  {
   "attachments": {},
   "cell_type": "markdown",
   "metadata": {},
   "source": [
    "# Build a linear regression model on whoop data to predict next day's recovery based on previous day metrics"
   ]
  },
  {
   "attachments": {},
   "cell_type": "markdown",
   "metadata": {},
   "source": [
    "### target performance / metric: make recovery score predictions within 10% (lower or higher) than ground truth recovery score\n",
    "\n",
    "165 days of data  \n",
    "8 features  \n",
    "1 target variable: recovery score  \n"
   ]
  },
  {
   "cell_type": "code",
   "execution_count": 15,
   "metadata": {},
   "outputs": [],
   "source": [
    "#import statements\n",
    "import pandas as pd\n",
    "import numpy as np"
   ]
  },
  {
   "attachments": {},
   "cell_type": "markdown",
   "metadata": {},
   "source": [
    "## load dataset"
   ]
  },
  {
   "cell_type": "code",
   "execution_count": 16,
   "metadata": {},
   "outputs": [
    {
     "data": {
      "text/html": [
       "<div>\n",
       "<style scoped>\n",
       "    .dataframe tbody tr th:only-of-type {\n",
       "        vertical-align: middle;\n",
       "    }\n",
       "\n",
       "    .dataframe tbody tr th {\n",
       "        vertical-align: top;\n",
       "    }\n",
       "\n",
       "    .dataframe thead th {\n",
       "        text-align: right;\n",
       "    }\n",
       "</style>\n",
       "<table border=\"1\" class=\"dataframe\">\n",
       "  <thead>\n",
       "    <tr style=\"text-align: right;\">\n",
       "      <th></th>\n",
       "      <th>Day Strain</th>\n",
       "      <th>Resting heart rate (bpm)</th>\n",
       "      <th>Heart rate variability (ms)</th>\n",
       "      <th>Average HR (bpm)</th>\n",
       "      <th>Respiratory rate (rpm)</th>\n",
       "      <th>Asleep duration (min)</th>\n",
       "      <th>Deep (SWS) duration (min)</th>\n",
       "      <th>REM duration (min)</th>\n",
       "      <th>Recovery score %</th>\n",
       "    </tr>\n",
       "  </thead>\n",
       "  <tbody>\n",
       "    <tr>\n",
       "      <th>0</th>\n",
       "      <td>-1.260880</td>\n",
       "      <td>0.535925</td>\n",
       "      <td>-0.628835</td>\n",
       "      <td>1.148218</td>\n",
       "      <td>-1.692366</td>\n",
       "      <td>-2.215184</td>\n",
       "      <td>-0.598923</td>\n",
       "      <td>-0.746988</td>\n",
       "      <td>34.0</td>\n",
       "    </tr>\n",
       "    <tr>\n",
       "      <th>1</th>\n",
       "      <td>0.362915</td>\n",
       "      <td>-0.492303</td>\n",
       "      <td>0.248181</td>\n",
       "      <td>-1.895251</td>\n",
       "      <td>-1.166490</td>\n",
       "      <td>-1.644456</td>\n",
       "      <td>0.071708</td>\n",
       "      <td>-0.648916</td>\n",
       "      <td>57.0</td>\n",
       "    </tr>\n",
       "    <tr>\n",
       "      <th>2</th>\n",
       "      <td>-1.745170</td>\n",
       "      <td>1.906897</td>\n",
       "      <td>2.137139</td>\n",
       "      <td>-0.373517</td>\n",
       "      <td>0.411140</td>\n",
       "      <td>0.546404</td>\n",
       "      <td>-0.886336</td>\n",
       "      <td>-0.477288</td>\n",
       "      <td>84.0</td>\n",
       "    </tr>\n",
       "    <tr>\n",
       "      <th>3</th>\n",
       "      <td>-1.232392</td>\n",
       "      <td>0.878668</td>\n",
       "      <td>0.113256</td>\n",
       "      <td>1.401840</td>\n",
       "      <td>-0.640613</td>\n",
       "      <td>0.693689</td>\n",
       "      <td>-0.455216</td>\n",
       "      <td>0.111149</td>\n",
       "      <td>59.0</td>\n",
       "    </tr>\n",
       "    <tr>\n",
       "      <th>4</th>\n",
       "      <td>-0.064399</td>\n",
       "      <td>0.878668</td>\n",
       "      <td>-0.831223</td>\n",
       "      <td>0.133728</td>\n",
       "      <td>-1.955305</td>\n",
       "      <td>1.466933</td>\n",
       "      <td>-0.598923</td>\n",
       "      <td>1.435133</td>\n",
       "      <td>35.0</td>\n",
       "    </tr>\n",
       "  </tbody>\n",
       "</table>\n",
       "</div>"
      ],
      "text/plain": [
       "   Day Strain  Resting heart rate (bpm)  Heart rate variability (ms)  \\\n",
       "0   -1.260880                  0.535925                    -0.628835   \n",
       "1    0.362915                 -0.492303                     0.248181   \n",
       "2   -1.745170                  1.906897                     2.137139   \n",
       "3   -1.232392                  0.878668                     0.113256   \n",
       "4   -0.064399                  0.878668                    -0.831223   \n",
       "\n",
       "   Average HR (bpm)  Respiratory rate (rpm)  Asleep duration (min)  \\\n",
       "0          1.148218               -1.692366              -2.215184   \n",
       "1         -1.895251               -1.166490              -1.644456   \n",
       "2         -0.373517                0.411140               0.546404   \n",
       "3          1.401840               -0.640613               0.693689   \n",
       "4          0.133728               -1.955305               1.466933   \n",
       "\n",
       "   Deep (SWS) duration (min)  REM duration (min)  Recovery score %  \n",
       "0                  -0.598923           -0.746988              34.0  \n",
       "1                   0.071708           -0.648916              57.0  \n",
       "2                  -0.886336           -0.477288              84.0  \n",
       "3                  -0.455216            0.111149              59.0  \n",
       "4                  -0.598923            1.435133              35.0  "
      ]
     },
     "execution_count": 16,
     "metadata": {},
     "output_type": "execute_result"
    }
   ],
   "source": [
    "#load data\n",
    "df = pd.read_csv(\"../data/feature_table.csv\")\n",
    "#remove date for training purposes, useful to investigate later when doing error analysis\n",
    "del df[\"Date\"]\n",
    "df.head()"
   ]
  },
  {
   "attachments": {},
   "cell_type": "markdown",
   "metadata": {},
   "source": [
    "## create train/test set\n",
    "\n",
    "opting for only 0.2 test size due to low number of training examples (165)"
   ]
  },
  {
   "cell_type": "code",
   "execution_count": 17,
   "metadata": {},
   "outputs": [
    {
     "name": "stdout",
     "output_type": "stream",
     "text": [
      "(164, 8) (164,)\n"
     ]
    }
   ],
   "source": [
    "#define input features X and target variable y\n",
    "features = [f for f in df.columns.to_list() if f != \"Recovery score %\"] #create list of feature names\n",
    "X, y = df[features], df[\"Recovery score %\"] #define features X and target variable y\n",
    "print(X.shape, y.shape)"
   ]
  },
  {
   "cell_type": "code",
   "execution_count": 18,
   "metadata": {},
   "outputs": [
    {
     "name": "stdout",
     "output_type": "stream",
     "text": [
      "(123, 8) (41, 8) (123,) (41,)\n"
     ]
    }
   ],
   "source": [
    "#create train/test sets\n",
    "from sklearn.model_selection import train_test_split\n",
    "\n",
    "#X_train are the features of the training set, y_train are the target variables/outcomes for those features, same thing for test\n",
    "X_train, X_test, y_train, y_test = train_test_split(X, y, test_size=0.25, random_state=1)\n",
    "\n",
    "print(X_train.shape, X_test.shape, y_train.shape, y_test.shape)"
   ]
  },
  {
   "attachments": {},
   "cell_type": "markdown",
   "metadata": {},
   "source": [
    "## train linear regression model"
   ]
  },
  {
   "cell_type": "code",
   "execution_count": 19,
   "metadata": {},
   "outputs": [
    {
     "data": {
      "text/html": [
       "<style>#sk-container-id-2 {\n",
       "  /* Definition of color scheme common for light and dark mode */\n",
       "  --sklearn-color-text: #000;\n",
       "  --sklearn-color-text-muted: #666;\n",
       "  --sklearn-color-line: gray;\n",
       "  /* Definition of color scheme for unfitted estimators */\n",
       "  --sklearn-color-unfitted-level-0: #fff5e6;\n",
       "  --sklearn-color-unfitted-level-1: #f6e4d2;\n",
       "  --sklearn-color-unfitted-level-2: #ffe0b3;\n",
       "  --sklearn-color-unfitted-level-3: chocolate;\n",
       "  /* Definition of color scheme for fitted estimators */\n",
       "  --sklearn-color-fitted-level-0: #f0f8ff;\n",
       "  --sklearn-color-fitted-level-1: #d4ebff;\n",
       "  --sklearn-color-fitted-level-2: #b3dbfd;\n",
       "  --sklearn-color-fitted-level-3: cornflowerblue;\n",
       "\n",
       "  /* Specific color for light theme */\n",
       "  --sklearn-color-text-on-default-background: var(--sg-text-color, var(--theme-code-foreground, var(--jp-content-font-color1, black)));\n",
       "  --sklearn-color-background: var(--sg-background-color, var(--theme-background, var(--jp-layout-color0, white)));\n",
       "  --sklearn-color-border-box: var(--sg-text-color, var(--theme-code-foreground, var(--jp-content-font-color1, black)));\n",
       "  --sklearn-color-icon: #696969;\n",
       "\n",
       "  @media (prefers-color-scheme: dark) {\n",
       "    /* Redefinition of color scheme for dark theme */\n",
       "    --sklearn-color-text-on-default-background: var(--sg-text-color, var(--theme-code-foreground, var(--jp-content-font-color1, white)));\n",
       "    --sklearn-color-background: var(--sg-background-color, var(--theme-background, var(--jp-layout-color0, #111)));\n",
       "    --sklearn-color-border-box: var(--sg-text-color, var(--theme-code-foreground, var(--jp-content-font-color1, white)));\n",
       "    --sklearn-color-icon: #878787;\n",
       "  }\n",
       "}\n",
       "\n",
       "#sk-container-id-2 {\n",
       "  color: var(--sklearn-color-text);\n",
       "}\n",
       "\n",
       "#sk-container-id-2 pre {\n",
       "  padding: 0;\n",
       "}\n",
       "\n",
       "#sk-container-id-2 input.sk-hidden--visually {\n",
       "  border: 0;\n",
       "  clip: rect(1px 1px 1px 1px);\n",
       "  clip: rect(1px, 1px, 1px, 1px);\n",
       "  height: 1px;\n",
       "  margin: -1px;\n",
       "  overflow: hidden;\n",
       "  padding: 0;\n",
       "  position: absolute;\n",
       "  width: 1px;\n",
       "}\n",
       "\n",
       "#sk-container-id-2 div.sk-dashed-wrapped {\n",
       "  border: 1px dashed var(--sklearn-color-line);\n",
       "  margin: 0 0.4em 0.5em 0.4em;\n",
       "  box-sizing: border-box;\n",
       "  padding-bottom: 0.4em;\n",
       "  background-color: var(--sklearn-color-background);\n",
       "}\n",
       "\n",
       "#sk-container-id-2 div.sk-container {\n",
       "  /* jupyter's `normalize.less` sets `[hidden] { display: none; }`\n",
       "     but bootstrap.min.css set `[hidden] { display: none !important; }`\n",
       "     so we also need the `!important` here to be able to override the\n",
       "     default hidden behavior on the sphinx rendered scikit-learn.org.\n",
       "     See: https://github.com/scikit-learn/scikit-learn/issues/21755 */\n",
       "  display: inline-block !important;\n",
       "  position: relative;\n",
       "}\n",
       "\n",
       "#sk-container-id-2 div.sk-text-repr-fallback {\n",
       "  display: none;\n",
       "}\n",
       "\n",
       "div.sk-parallel-item,\n",
       "div.sk-serial,\n",
       "div.sk-item {\n",
       "  /* draw centered vertical line to link estimators */\n",
       "  background-image: linear-gradient(var(--sklearn-color-text-on-default-background), var(--sklearn-color-text-on-default-background));\n",
       "  background-size: 2px 100%;\n",
       "  background-repeat: no-repeat;\n",
       "  background-position: center center;\n",
       "}\n",
       "\n",
       "/* Parallel-specific style estimator block */\n",
       "\n",
       "#sk-container-id-2 div.sk-parallel-item::after {\n",
       "  content: \"\";\n",
       "  width: 100%;\n",
       "  border-bottom: 2px solid var(--sklearn-color-text-on-default-background);\n",
       "  flex-grow: 1;\n",
       "}\n",
       "\n",
       "#sk-container-id-2 div.sk-parallel {\n",
       "  display: flex;\n",
       "  align-items: stretch;\n",
       "  justify-content: center;\n",
       "  background-color: var(--sklearn-color-background);\n",
       "  position: relative;\n",
       "}\n",
       "\n",
       "#sk-container-id-2 div.sk-parallel-item {\n",
       "  display: flex;\n",
       "  flex-direction: column;\n",
       "}\n",
       "\n",
       "#sk-container-id-2 div.sk-parallel-item:first-child::after {\n",
       "  align-self: flex-end;\n",
       "  width: 50%;\n",
       "}\n",
       "\n",
       "#sk-container-id-2 div.sk-parallel-item:last-child::after {\n",
       "  align-self: flex-start;\n",
       "  width: 50%;\n",
       "}\n",
       "\n",
       "#sk-container-id-2 div.sk-parallel-item:only-child::after {\n",
       "  width: 0;\n",
       "}\n",
       "\n",
       "/* Serial-specific style estimator block */\n",
       "\n",
       "#sk-container-id-2 div.sk-serial {\n",
       "  display: flex;\n",
       "  flex-direction: column;\n",
       "  align-items: center;\n",
       "  background-color: var(--sklearn-color-background);\n",
       "  padding-right: 1em;\n",
       "  padding-left: 1em;\n",
       "}\n",
       "\n",
       "\n",
       "/* Toggleable style: style used for estimator/Pipeline/ColumnTransformer box that is\n",
       "clickable and can be expanded/collapsed.\n",
       "- Pipeline and ColumnTransformer use this feature and define the default style\n",
       "- Estimators will overwrite some part of the style using the `sk-estimator` class\n",
       "*/\n",
       "\n",
       "/* Pipeline and ColumnTransformer style (default) */\n",
       "\n",
       "#sk-container-id-2 div.sk-toggleable {\n",
       "  /* Default theme specific background. It is overwritten whether we have a\n",
       "  specific estimator or a Pipeline/ColumnTransformer */\n",
       "  background-color: var(--sklearn-color-background);\n",
       "}\n",
       "\n",
       "/* Toggleable label */\n",
       "#sk-container-id-2 label.sk-toggleable__label {\n",
       "  cursor: pointer;\n",
       "  display: flex;\n",
       "  width: 100%;\n",
       "  margin-bottom: 0;\n",
       "  padding: 0.5em;\n",
       "  box-sizing: border-box;\n",
       "  text-align: center;\n",
       "  align-items: start;\n",
       "  justify-content: space-between;\n",
       "  gap: 0.5em;\n",
       "}\n",
       "\n",
       "#sk-container-id-2 label.sk-toggleable__label .caption {\n",
       "  font-size: 0.6rem;\n",
       "  font-weight: lighter;\n",
       "  color: var(--sklearn-color-text-muted);\n",
       "}\n",
       "\n",
       "#sk-container-id-2 label.sk-toggleable__label-arrow:before {\n",
       "  /* Arrow on the left of the label */\n",
       "  content: \"▸\";\n",
       "  float: left;\n",
       "  margin-right: 0.25em;\n",
       "  color: var(--sklearn-color-icon);\n",
       "}\n",
       "\n",
       "#sk-container-id-2 label.sk-toggleable__label-arrow:hover:before {\n",
       "  color: var(--sklearn-color-text);\n",
       "}\n",
       "\n",
       "/* Toggleable content - dropdown */\n",
       "\n",
       "#sk-container-id-2 div.sk-toggleable__content {\n",
       "  max-height: 0;\n",
       "  max-width: 0;\n",
       "  overflow: hidden;\n",
       "  text-align: left;\n",
       "  /* unfitted */\n",
       "  background-color: var(--sklearn-color-unfitted-level-0);\n",
       "}\n",
       "\n",
       "#sk-container-id-2 div.sk-toggleable__content.fitted {\n",
       "  /* fitted */\n",
       "  background-color: var(--sklearn-color-fitted-level-0);\n",
       "}\n",
       "\n",
       "#sk-container-id-2 div.sk-toggleable__content pre {\n",
       "  margin: 0.2em;\n",
       "  border-radius: 0.25em;\n",
       "  color: var(--sklearn-color-text);\n",
       "  /* unfitted */\n",
       "  background-color: var(--sklearn-color-unfitted-level-0);\n",
       "}\n",
       "\n",
       "#sk-container-id-2 div.sk-toggleable__content.fitted pre {\n",
       "  /* unfitted */\n",
       "  background-color: var(--sklearn-color-fitted-level-0);\n",
       "}\n",
       "\n",
       "#sk-container-id-2 input.sk-toggleable__control:checked~div.sk-toggleable__content {\n",
       "  /* Expand drop-down */\n",
       "  max-height: 200px;\n",
       "  max-width: 100%;\n",
       "  overflow: auto;\n",
       "}\n",
       "\n",
       "#sk-container-id-2 input.sk-toggleable__control:checked~label.sk-toggleable__label-arrow:before {\n",
       "  content: \"▾\";\n",
       "}\n",
       "\n",
       "/* Pipeline/ColumnTransformer-specific style */\n",
       "\n",
       "#sk-container-id-2 div.sk-label input.sk-toggleable__control:checked~label.sk-toggleable__label {\n",
       "  color: var(--sklearn-color-text);\n",
       "  background-color: var(--sklearn-color-unfitted-level-2);\n",
       "}\n",
       "\n",
       "#sk-container-id-2 div.sk-label.fitted input.sk-toggleable__control:checked~label.sk-toggleable__label {\n",
       "  background-color: var(--sklearn-color-fitted-level-2);\n",
       "}\n",
       "\n",
       "/* Estimator-specific style */\n",
       "\n",
       "/* Colorize estimator box */\n",
       "#sk-container-id-2 div.sk-estimator input.sk-toggleable__control:checked~label.sk-toggleable__label {\n",
       "  /* unfitted */\n",
       "  background-color: var(--sklearn-color-unfitted-level-2);\n",
       "}\n",
       "\n",
       "#sk-container-id-2 div.sk-estimator.fitted input.sk-toggleable__control:checked~label.sk-toggleable__label {\n",
       "  /* fitted */\n",
       "  background-color: var(--sklearn-color-fitted-level-2);\n",
       "}\n",
       "\n",
       "#sk-container-id-2 div.sk-label label.sk-toggleable__label,\n",
       "#sk-container-id-2 div.sk-label label {\n",
       "  /* The background is the default theme color */\n",
       "  color: var(--sklearn-color-text-on-default-background);\n",
       "}\n",
       "\n",
       "/* On hover, darken the color of the background */\n",
       "#sk-container-id-2 div.sk-label:hover label.sk-toggleable__label {\n",
       "  color: var(--sklearn-color-text);\n",
       "  background-color: var(--sklearn-color-unfitted-level-2);\n",
       "}\n",
       "\n",
       "/* Label box, darken color on hover, fitted */\n",
       "#sk-container-id-2 div.sk-label.fitted:hover label.sk-toggleable__label.fitted {\n",
       "  color: var(--sklearn-color-text);\n",
       "  background-color: var(--sklearn-color-fitted-level-2);\n",
       "}\n",
       "\n",
       "/* Estimator label */\n",
       "\n",
       "#sk-container-id-2 div.sk-label label {\n",
       "  font-family: monospace;\n",
       "  font-weight: bold;\n",
       "  display: inline-block;\n",
       "  line-height: 1.2em;\n",
       "}\n",
       "\n",
       "#sk-container-id-2 div.sk-label-container {\n",
       "  text-align: center;\n",
       "}\n",
       "\n",
       "/* Estimator-specific */\n",
       "#sk-container-id-2 div.sk-estimator {\n",
       "  font-family: monospace;\n",
       "  border: 1px dotted var(--sklearn-color-border-box);\n",
       "  border-radius: 0.25em;\n",
       "  box-sizing: border-box;\n",
       "  margin-bottom: 0.5em;\n",
       "  /* unfitted */\n",
       "  background-color: var(--sklearn-color-unfitted-level-0);\n",
       "}\n",
       "\n",
       "#sk-container-id-2 div.sk-estimator.fitted {\n",
       "  /* fitted */\n",
       "  background-color: var(--sklearn-color-fitted-level-0);\n",
       "}\n",
       "\n",
       "/* on hover */\n",
       "#sk-container-id-2 div.sk-estimator:hover {\n",
       "  /* unfitted */\n",
       "  background-color: var(--sklearn-color-unfitted-level-2);\n",
       "}\n",
       "\n",
       "#sk-container-id-2 div.sk-estimator.fitted:hover {\n",
       "  /* fitted */\n",
       "  background-color: var(--sklearn-color-fitted-level-2);\n",
       "}\n",
       "\n",
       "/* Specification for estimator info (e.g. \"i\" and \"?\") */\n",
       "\n",
       "/* Common style for \"i\" and \"?\" */\n",
       "\n",
       ".sk-estimator-doc-link,\n",
       "a:link.sk-estimator-doc-link,\n",
       "a:visited.sk-estimator-doc-link {\n",
       "  float: right;\n",
       "  font-size: smaller;\n",
       "  line-height: 1em;\n",
       "  font-family: monospace;\n",
       "  background-color: var(--sklearn-color-background);\n",
       "  border-radius: 1em;\n",
       "  height: 1em;\n",
       "  width: 1em;\n",
       "  text-decoration: none !important;\n",
       "  margin-left: 0.5em;\n",
       "  text-align: center;\n",
       "  /* unfitted */\n",
       "  border: var(--sklearn-color-unfitted-level-1) 1pt solid;\n",
       "  color: var(--sklearn-color-unfitted-level-1);\n",
       "}\n",
       "\n",
       ".sk-estimator-doc-link.fitted,\n",
       "a:link.sk-estimator-doc-link.fitted,\n",
       "a:visited.sk-estimator-doc-link.fitted {\n",
       "  /* fitted */\n",
       "  border: var(--sklearn-color-fitted-level-1) 1pt solid;\n",
       "  color: var(--sklearn-color-fitted-level-1);\n",
       "}\n",
       "\n",
       "/* On hover */\n",
       "div.sk-estimator:hover .sk-estimator-doc-link:hover,\n",
       ".sk-estimator-doc-link:hover,\n",
       "div.sk-label-container:hover .sk-estimator-doc-link:hover,\n",
       ".sk-estimator-doc-link:hover {\n",
       "  /* unfitted */\n",
       "  background-color: var(--sklearn-color-unfitted-level-3);\n",
       "  color: var(--sklearn-color-background);\n",
       "  text-decoration: none;\n",
       "}\n",
       "\n",
       "div.sk-estimator.fitted:hover .sk-estimator-doc-link.fitted:hover,\n",
       ".sk-estimator-doc-link.fitted:hover,\n",
       "div.sk-label-container:hover .sk-estimator-doc-link.fitted:hover,\n",
       ".sk-estimator-doc-link.fitted:hover {\n",
       "  /* fitted */\n",
       "  background-color: var(--sklearn-color-fitted-level-3);\n",
       "  color: var(--sklearn-color-background);\n",
       "  text-decoration: none;\n",
       "}\n",
       "\n",
       "/* Span, style for the box shown on hovering the info icon */\n",
       ".sk-estimator-doc-link span {\n",
       "  display: none;\n",
       "  z-index: 9999;\n",
       "  position: relative;\n",
       "  font-weight: normal;\n",
       "  right: .2ex;\n",
       "  padding: .5ex;\n",
       "  margin: .5ex;\n",
       "  width: min-content;\n",
       "  min-width: 20ex;\n",
       "  max-width: 50ex;\n",
       "  color: var(--sklearn-color-text);\n",
       "  box-shadow: 2pt 2pt 4pt #999;\n",
       "  /* unfitted */\n",
       "  background: var(--sklearn-color-unfitted-level-0);\n",
       "  border: .5pt solid var(--sklearn-color-unfitted-level-3);\n",
       "}\n",
       "\n",
       ".sk-estimator-doc-link.fitted span {\n",
       "  /* fitted */\n",
       "  background: var(--sklearn-color-fitted-level-0);\n",
       "  border: var(--sklearn-color-fitted-level-3);\n",
       "}\n",
       "\n",
       ".sk-estimator-doc-link:hover span {\n",
       "  display: block;\n",
       "}\n",
       "\n",
       "/* \"?\"-specific style due to the `<a>` HTML tag */\n",
       "\n",
       "#sk-container-id-2 a.estimator_doc_link {\n",
       "  float: right;\n",
       "  font-size: 1rem;\n",
       "  line-height: 1em;\n",
       "  font-family: monospace;\n",
       "  background-color: var(--sklearn-color-background);\n",
       "  border-radius: 1rem;\n",
       "  height: 1rem;\n",
       "  width: 1rem;\n",
       "  text-decoration: none;\n",
       "  /* unfitted */\n",
       "  color: var(--sklearn-color-unfitted-level-1);\n",
       "  border: var(--sklearn-color-unfitted-level-1) 1pt solid;\n",
       "}\n",
       "\n",
       "#sk-container-id-2 a.estimator_doc_link.fitted {\n",
       "  /* fitted */\n",
       "  border: var(--sklearn-color-fitted-level-1) 1pt solid;\n",
       "  color: var(--sklearn-color-fitted-level-1);\n",
       "}\n",
       "\n",
       "/* On hover */\n",
       "#sk-container-id-2 a.estimator_doc_link:hover {\n",
       "  /* unfitted */\n",
       "  background-color: var(--sklearn-color-unfitted-level-3);\n",
       "  color: var(--sklearn-color-background);\n",
       "  text-decoration: none;\n",
       "}\n",
       "\n",
       "#sk-container-id-2 a.estimator_doc_link.fitted:hover {\n",
       "  /* fitted */\n",
       "  background-color: var(--sklearn-color-fitted-level-3);\n",
       "}\n",
       "</style><div id=\"sk-container-id-2\" class=\"sk-top-container\"><div class=\"sk-text-repr-fallback\"><pre>LinearRegression()</pre><b>In a Jupyter environment, please rerun this cell to show the HTML representation or trust the notebook. <br />On GitHub, the HTML representation is unable to render, please try loading this page with nbviewer.org.</b></div><div class=\"sk-container\" hidden><div class=\"sk-item\"><div class=\"sk-estimator fitted sk-toggleable\"><input class=\"sk-toggleable__control sk-hidden--visually\" id=\"sk-estimator-id-2\" type=\"checkbox\" checked><label for=\"sk-estimator-id-2\" class=\"sk-toggleable__label fitted sk-toggleable__label-arrow\"><div><div>LinearRegression</div></div><div><a class=\"sk-estimator-doc-link fitted\" rel=\"noreferrer\" target=\"_blank\" href=\"https://scikit-learn.org/1.6/modules/generated/sklearn.linear_model.LinearRegression.html\">?<span>Documentation for LinearRegression</span></a><span class=\"sk-estimator-doc-link fitted\">i<span>Fitted</span></span></div></label><div class=\"sk-toggleable__content fitted\"><pre>LinearRegression()</pre></div> </div></div></div></div>"
      ],
      "text/plain": [
       "LinearRegression()"
      ]
     },
     "execution_count": 19,
     "metadata": {},
     "output_type": "execute_result"
    }
   ],
   "source": [
    "from sklearn.linear_model import LinearRegression\n",
    "\n",
    "lin_reg = LinearRegression() #create linear regression model instance\n",
    "lin_reg.fit(X_train, y_train)"
   ]
  },
  {
   "attachments": {},
   "cell_type": "markdown",
   "metadata": {},
   "source": [
    "### What Happens Inside `lin_reg.fit(X_train, y_train)`\n",
    "\n",
    "When you call `lin_reg.fit(X_train, y_train)`, scikit-learn’s `LinearRegression` does the following:\n",
    "\n",
    "---\n",
    "\n",
    "#### 1. Understands Your Data\n",
    "- It checks that `X_train` (your features) is a table with rows and columns.\n",
    "- It checks that `y_train` (your target) is a single column of values.\n",
    "- It prepares the data so that it can find the best line (or plane) to fit.\n",
    "\n",
    "---\n",
    "\n",
    "#### 2. Defines the Goal (Cost Function)\n",
    "- The goal is to find coefficients (weights) that minimize prediction errors.\n",
    "- The error is measured using **Mean Squared Error (MSE)**:\n",
    "  \\[\n",
    "  MSE = \\frac{1}{n} \\sum_{i=1}^n (y_i - \\hat{y}_i)^2\n",
    "  \\]\n",
    "  where \\(\\hat{y}_i\\) is the prediction for row \\(i\\).\n",
    "\n",
    "---\n",
    "\n",
    "#### 3. Finds the Best Coefficients\n",
    "- Instead of guessing coefficients and adjusting them (like gradient descent), it uses a **mathematical shortcut (least squares)** to directly calculate the best values.\n",
    "- Under the hood, it uses a method called **SVD (Singular Value Decomposition)** — a stable way to find the exact solution.\n",
    "\n",
    "---\n",
    "\n",
    "#### 4. Saves the Model Parameters\n",
    "- The numbers it finds (coefficients and intercept) are saved in:\n",
    "  ```python\n",
    "  lin_reg.coef_      # effect of each feature\n",
    "  lin_reg.intercept_ # baseline prediction\n"
   ]
  },
  {
   "attachments": {},
   "cell_type": "markdown",
   "metadata": {},
   "source": [
    "## Investigate linear regression model"
   ]
  },
  {
   "cell_type": "code",
   "execution_count": 20,
   "metadata": {},
   "outputs": [
    {
     "name": "stdout",
     "output_type": "stream",
     "text": [
      "60.874558867629496\n",
      "[ 1.69777954 -3.33707154  9.54307829 -0.46633949  3.25497309  1.79642313\n",
      " -2.06457998  3.46471867]\n"
     ]
    }
   ],
   "source": [
    "#a linear regression model estimates weights and y intercept w, b\n",
    "print(lin_reg.intercept_) #scalar value\n",
    "print(lin_reg.coef_) #weight for each feature, so (8,) 1D array because I have 8 featuress"
   ]
  },
  {
   "cell_type": "code",
   "execution_count": 21,
   "metadata": {},
   "outputs": [
    {
     "data": {
      "text/plain": [
       "{'Heart rate variability (ms)': np.float64(9.54307828784235),\n",
       " 'REM duration (min)': np.float64(3.4647186707638373),\n",
       " 'Respiratory rate (rpm)': np.float64(3.254973092783409),\n",
       " 'Asleep duration (min)': np.float64(1.7964231267557556),\n",
       " 'Day Strain': np.float64(1.6977795384860073),\n",
       " 'Average HR (bpm)': np.float64(-0.46633948791090163),\n",
       " 'Deep (SWS) duration (min)': np.float64(-2.0645799768700654),\n",
       " 'Resting heart rate (bpm)': np.float64(-3.33707153530372)}"
      ]
     },
     "execution_count": 21,
     "metadata": {},
     "output_type": "execute_result"
    }
   ],
   "source": [
    "#the magnitude of the features indicates how significantly they affect the target variable y\n",
    "coeffs = {}\n",
    "for feature, coef in zip(X_train.columns, lin_reg.coef_):\n",
    "    coeffs[feature] = coef\n",
    "sorted_coeffs = dict(sorted(coeffs.items(), key=lambda item: item[1], reverse=True)) # sort dict by descending values\n",
    "sorted_coeffs"
   ]
  },
  {
   "attachments": {},
   "cell_type": "markdown",
   "metadata": {},
   "source": [
    "## Evaluate coefficients"
   ]
  },
  {
   "cell_type": "code",
   "execution_count": 22,
   "metadata": {},
   "outputs": [
    {
     "data": {
      "text/plain": [
       "<BarContainer object of 8 artists>"
      ]
     },
     "execution_count": 22,
     "metadata": {},
     "output_type": "execute_result"
    },
    {
     "data": {
      "image/png": "[encoded data removed]",
      "text/plain": [
       "<Figure size 640x480 with 1 Axes>"
      ]
     },
     "metadata": {},
     "output_type": "display_data"
    }
   ],
   "source": [
    "import matplotlib.pyplot as plt\n",
    "#bar plot of coefficients\n",
    "features = [item[0] for item in sorted_coeffs.items()]\n",
    "values = [item[1] for item in sorted_coeffs.items()]\n",
    "\n",
    "plt.barh(features, values)\n"
   ]
  },
  {
   "attachments": {},
   "cell_type": "markdown",
   "metadata": {},
   "source": [
    "## Heart rate variability is the most impactful feature on recovery score (9.422)\n",
    "respiratory rate is next (3.25) and REM duration (2.75)"
   ]
  },
  {
   "attachments": {},
   "cell_type": "markdown",
   "metadata": {},
   "source": [
    "## Make predictions on test set and compute MSE mean squared error"
   ]
  },
  {
   "cell_type": "code",
   "execution_count": 23,
   "metadata": {},
   "outputs": [
    {
     "name": "stdout",
     "output_type": "stream",
     "text": [
      "mse: 126.1482125411872\n",
      "rmse: 11.231572131326372\n"
     ]
    }
   ],
   "source": [
    "from sklearn.metrics import mean_squared_error\n",
    "\n",
    "y_pred = lin_reg.predict(X_test) # make preidcition on test set inputs\n",
    "mse = mean_squared_error(y_test, y_pred) #calculate mean squared error on test set predicitons -> how far were predictions from ground truth number\n",
    "rmse = mse ** 0.5  # Square root of MSE\n",
    "\n",
    "print(\"mse: \" + str(mse))\n",
    "print(\"rmse: \" + str(rmse))"
   ]
  },
  {
   "attachments": {},
   "cell_type": "markdown",
   "metadata": {},
   "source": [
    "## Plot predictions vs actual values"
   ]
  },
  {
   "cell_type": "code",
   "execution_count": 24,
   "metadata": {},
   "outputs": [
    {
     "data": {
      "image/png": "[encoded data removed]",
      "text/plain": [
       "<Figure size 640x480 with 1 Axes>"
      ]
     },
     "metadata": {},
     "output_type": "display_data"
    }
   ],
   "source": [
    "#create scatter plot\n",
    "plt.scatter(y_test, y_pred)\n",
    "\n",
    "plt.xlabel(\"Actual Recovery Score %\")\n",
    "plt.ylabel(\"Predicted Recovery Score %\")\n",
    "\n",
    "plt.title(\"Whoop Linear Regression: Actual vs Predicted Recovery Score\")\n",
    "\n",
    "#add perfect prediction line\n",
    "plt.plot([y_test.min(), y_test.max()],\n",
    "         [y_test.min(), y_test.max()],\n",
    "         color=\"red\", linewidth=2)  # Perfect prediction line\n",
    "plt.show()"
   ]
  },
  {
   "attachments": {},
   "cell_type": "markdown",
   "metadata": {},
   "source": [
    "## plot model accuracy via one selected feature just to visualize: (can't do all 8 at once and visualize)\n",
    "so opting for HR variability due to strongest correlation\n",
    "\n"
   ]
  },
  {
   "cell_type": "code",
   "execution_count": 25,
   "metadata": {},
   "outputs": [
    {
     "data": {
      "image/png": "[encoded data removed]",
      "text/plain": [
       "<Figure size 640x480 with 1 Axes>"
      ]
     },
     "metadata": {},
     "output_type": "display_data"
    }
   ],
   "source": [
    "# 1. Select just one feature\n",
    "feature = \"Heart rate variability (ms)\"\n",
    "X_train_hrv = X_train[[feature]]\n",
    "X_test_hrv = X_test[[feature]]\n",
    "\n",
    "# 2. Create and fit a new linear regression model with only this feature\n",
    "lin_reg_hrv = LinearRegression()\n",
    "lin_reg_hrv.fit(X_train_hrv, y_train)\n",
    "\n",
    "#3. Predict values using this 1-feature model\n",
    "y_pred_hrv = lin_reg_hrv.predict(X_test_hrv)\n",
    "\n",
    "#4. plot data points\n",
    "plt.scatter(y_test, y_pred_hrv, label=\"Actual values\")\n",
    "\n",
    "#5. Plot regression line\n",
    "sorted_idx = np.argsort(X_test_hrv.values.ravel())\n",
    "\"\"\"arr = [50, 10, 30] #indices to sort array\n",
    "np.argsort(arr)\n",
    "# Output: [1, 2, 0]\"\"\"\n",
    "plt.plot(\n",
    "    X_test_hrv.values[sorted_idx],\n",
    "    y_pred_hrv[sorted_idx],\n",
    "    color=\"red\",\n",
    "    linewidth=2,\n",
    "    label=\"Model prediction line\"\n",
    ")\n",
    "\n",
    "plt.xlabel(feature)\n",
    "plt.ylabel(\"Recovery Score %\")\n",
    "plt.title(f\"Linear Regression with {feature}\")\n",
    "plt.legend()\n",
    "plt.show()"
   ]
  },
  {
   "attachments": {},
   "cell_type": "markdown",
   "metadata": {},
   "source": [
    "## HRV alone doesn't capture recovery score well...even though it had the largest coeeficcient: 1. Coefficients Depend on Feature Scale\n",
    "Myfeatures were standardized (mean = 0, std = 1), so the magnitude of a coefficient does represent importance in the context of the model, but only when combined with other features.\n",
    "A large positive coefficient means that when all other features are fixed, increasing HRV (by 1 standard deviation) increases recovery score by ~9.4 points."
   ]
  },
  {
   "attachments": {},
   "cell_type": "markdown",
   "metadata": {},
   "source": [
    "## Evaluate how good initial linear regression model (all features) was with R^2 correlation test\n",
    "\n",
    "R² = 1: Perfect prediction.  \n",
    "R² = 0: Model is no better than predicting the mean.  \n",
    "R² < 0: Model performs worse than just guessing the mean.\n"
   ]
  },
  {
   "cell_type": "code",
   "execution_count": 26,
   "metadata": {},
   "outputs": [
    {
     "name": "stdout",
     "output_type": "stream",
     "text": [
      "model r2: 0.5080041175802519\n",
      " hrv only r2: 0.41563477103232405\n",
      " avg r2: -0.004423975726265628\n"
     ]
    }
   ],
   "source": [
    "from sklearn.metrics import r2_score\n",
    "\n",
    "#r2 for full model\n",
    "r2 = r2_score(y_test, y_pred)\n",
    "\n",
    "#r2 for hrv only model\n",
    "r2_hrv = r2_score(y_test, y_pred_hrv)\n",
    "\n",
    "#r2 for predicting avg recovery score\n",
    "r2_avg = r2_score(y_test, np.full(len(y_test), y_train.mean()))#create vector containing mean for each prediction example\n",
    "\n",
    "print(\"model r2: \" + str(r2) + \"\\n\",\n",
    "      \"hrv only r2: \" + str(r2_hrv) + \"\\n\",\n",
    "      \"avg r2: \" + str(r2_avg))"
   ]
  },
  {
   "attachments": {},
   "cell_type": "markdown",
   "metadata": {},
   "source": [
    "An R² score of 0.59 means the model explains about 59% of the variance in the Recovery Score % on the test set.\n",
    "\n",
    "model outperforms single feature hrv only mean guessing models"
   ]
  },
  {
   "attachments": {},
   "cell_type": "markdown",
   "metadata": {},
   "source": [
    "## evaluation metric testing: 17 points away from true score:\n",
    "out of all predictions, how many times was the model within 17 points on either side (higher or lower prediction) than the true recovery score for that day?  \n",
    "because Whoop recovery has 3 tiers/bands (poor,good,excellent) recoveries, (17 points allows a high or low prediction within the same recovery third)\n",
    "\n",
    "example: recovery score is 75 %\n",
    "\n",
    "17 points error allowance means a prediction between  \n",
    "58 to 92"
   ]
  },
  {
   "cell_type": "code",
   "execution_count": 27,
   "metadata": {},
   "outputs": [
    {
     "data": {
      "text/plain": [
       "np.float64(87.8048780487805)"
      ]
     },
     "execution_count": 27,
     "metadata": {},
     "output_type": "execute_result"
    }
   ],
   "source": [
    "#store percent error between truth and predicted value in array\n",
    "points_error = np.abs(y_test - y_pred)\n",
    "\n",
    "#count number of safe predictions (<= 17 %)\n",
    "safe_predictions = points_error <=17 #True = 1, False = 0\n",
    "safe_percent = (np.sum(safe_predictions) / len(safe_predictions)) * 100\n",
    "safe_percent"
   ]
  },
  {
   "attachments": {},
   "cell_type": "markdown",
   "metadata": {},
   "source": [
    "## ~88% of the time, the model predicted a recovery score within 17 points of the ground truth recovery score\n",
    "not bad for multivariate model with only 164 days of data!"
   ]
  },
  {
   "attachments": {},
   "cell_type": "markdown",
   "metadata": {},
   "source": [
    "## sumarrize models (full, hrv, avg)\n",
    "\n",
    "MSE, r, r2, target metric (17% error)"
   ]
  },
  {
   "cell_type": "code",
   "execution_count": 28,
   "metadata": {},
   "outputs": [
    {
     "name": "stdout",
     "output_type": "stream",
     "text": [
      "Linear Regression Model (8 features):\n",
      "mse: 126.1482125411872\n",
      "r: 0.7127440757945673\n",
      "safe predictions %: 87.8048780487805\n",
      "Linear Regression Model (HRV):\n",
      "mse: 149.83180091454972\n",
      "r: 0.6446974259544737\n",
      "safe predictions %: 80.48780487804879\n",
      "Average guess model:\n",
      "mse: 257.5352634014145\n",
      "r: nan\n",
      "safe predictions %: 70.73170731707317\n"
     ]
    },
    {
     "name": "stderr",
     "output_type": "stream",
     "text": [
      "/var/folders/bz/t2rlkxxj1p791fxqscm96q_40000gn/T/ipykernel_65434/357732289.py:11: RuntimeWarning: invalid value encountered in sqrt\n",
      "  r_avg = np.sqrt(r2_avg)\n"
     ]
    }
   ],
   "source": [
    "y_pred_avg = np.full(len(y_test), y_train.mean())\n",
    "\n",
    "#mean squared error\n",
    "mse = mean_squared_error(y_test, y_pred)\n",
    "mse_hrv = mean_squared_error(y_test, y_pred_hrv)\n",
    "mse_avg = mean_squared_error(y_test, y_pred_avg)\n",
    "\n",
    "#r linear correlation : > 0.75 strong linear correlation\n",
    "r = np.sqrt(r2)\n",
    "r_hrv = np.sqrt(r2_hrv)\n",
    "r_avg = np.sqrt(r2_avg)\n",
    "\n",
    "#within 17%\n",
    "points_error_hrv = np.abs(y_test - y_pred_hrv)\n",
    "safe_predictions_hrv = points_error_hrv <= 17\n",
    "safe_percent_hrv = (np.sum(safe_predictions_hrv) / len(safe_predictions_hrv)) * 100\n",
    "\n",
    "points_error_avg = np.abs(y_test - y_pred_avg)\n",
    "safe_predictions_avg = points_error_avg <= 17\n",
    "safe_percent_avg = (np.sum(safe_predictions_avg) / len(safe_predictions_avg)) * 100\n",
    "\n",
    "#print model summaries:\n",
    "print(\"Linear Regression Model (8 features):\")\n",
    "print(f\"mse: {mse}\")\n",
    "print(f\"r: {r}\")\n",
    "print(f\"safe predictions %: {safe_percent}\")\n",
    "\n",
    "print(\"Linear Regression Model (HRV):\")\n",
    "print(f\"mse: {mse_hrv}\")\n",
    "print(f\"r: {r_hrv}\")\n",
    "print(f\"safe predictions %: {safe_percent_hrv}\")\n",
    "\n",
    "print(\"Average guess model:\")\n",
    "print(f\"mse: {mse_avg}\")\n",
    "print(f\"r: {r_avg}\")\n",
    "print(f\"safe predictions %: {safe_percent_avg}\")\n",
    "\n"
   ]
  },
  {
   "attachments": {},
   "cell_type": "markdown",
   "metadata": {},
   "source": [
    "# ITERATE  \n",
    "\n",
    "bump up test size to 0.15 and 0.25 (0.05 changes)  \n",
    "\n",
    "# test size = 0.2  \n",
    "Linear Regression Model (8 features):  \n",
    "mse: 113.65271576275359  \n",
    "r: 0.7708807444277164  \n",
    "safe predictions %: 87.87878787878788  \n",
    "Linear Regression Model (HRV):  \n",
    "mse: 162.70199269184923  \n",
    "r: 0.6474179838093952  \n",
    "safe predictions %: 78.78787878787878  \n",
    "Average guess model:  \n",
    "mse: 282.99854144262974  \n",
    "r: nan  \n",
    "safe predictions %: 69.6969696969697  \n",
    "  \n",
    "# test size = 0.15  \n",
    "Linear Regression Model (8 features):  \n",
    "mse: 117.84230094270406  \n",
    "r: 0.7413974671422806  \n",
    "safe predictions %: 92.0  \n",
    "Linear Regression Model (HRV):  \n",
    "mse: 166.58385169122968  \n",
    "r: 0.6028318613765239  \n",
    "safe predictions %: 80.0  \n",
    "Average guess model:  \n",
    "mse: 261.68005175715535  \n",
    "r: nan  \n",
    "safe predictions %: 72.  \n",
    "  \n",
    "# test size = 0.25  \n",
    "Linear Regression Model (8 features):  \n",
    "mse: 126.1482125411872  \n",
    "r: 0.7127440757945673  \n",
    "safe predictions %: 87.8048780487805  \n",
    "Linear Regression Model (HRV):  \n",
    "mse: 149.83180091454972  \n",
    "r: 0.6446974259544737  \n",
    "safe predictions %: 80.48780487804879  \n",
    "Average guess model:  \n",
    "mse: 257.5352634014145  \n",
    "r: nan  \n",
    "safe predictions %: 70.73170731707317  \n",
    "\n",
    "# test size = 0.2 is best overall: highest r and safe prediction percentage"
   ]
  },
  {
   "cell_type": "code",
   "execution_count": null,
   "metadata": {},
   "outputs": [],
   "source": []
  },
  {
   "attachments": {},
   "cell_type": "markdown",
   "metadata": {},
   "source": [
    "## predictor: upload new features and predict next morning's recovery score"
   ]
  },
  {
   "attachments": {},
   "cell_type": "markdown",
   "metadata": {},
   "source": [
    "ss"
   ]
  }
 ],
 "metadata": {
  "kernelspec": {
   "display_name": "jupyter-env",
   "language": "python",
   "name": "python3"
  },
  "language_info": {
   "codemirror_mode": {
    "name": "ipython",
    "version": 3
   },
   "file_extension": ".py",
   "mimetype": "text/x-python",
   "name": "python",
   "nbconvert_exporter": "python",
   "pygments_lexer": "ipython3",
   "version": "3.11.12"
  },
  "orig_nbformat": 4,
  "vscode": {
   "interpreter": {
    "hash": "1a970d483b78a2ed42ff91bb59a79a5fb544c1825644164c079c2ad007b6b45d"
   }
  }
 },
 "nbformat": 4,
 "nbformat_minor": 2
}
