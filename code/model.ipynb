{
 "cells": [
  {
   "attachments": {},
   "cell_type": "markdown",
   "metadata": {},
   "source": [
    "# Build a linear regression model on whoop data to predict next day's recovery based on previous day metrics"
   ]
  },
  {
   "attachments": {},
   "cell_type": "markdown",
   "metadata": {},
   "source": [
    "### target performance / metric: make recovery score predictions within 10% (lower or higher) than ground truth recovery score\n",
    "\n",
    "165 days of data  \n",
    "8 features  \n",
    "1 target variable: recovery score  \n"
   ]
  },
  {
   "cell_type": "code",
   "execution_count": 7,
   "metadata": {},
   "outputs": [],
   "source": [
    "#import statements\n",
    "from sklearn.model_selection import train_test_split\n",
    "import pandas as pd\n",
    "import numpy as np"
   ]
  },
  {
   "cell_type": "code",
   "execution_count": 9,
   "metadata": {},
   "outputs": [
    {
     "data": {
      "text/html": [
       "<div>\n",
       "<style scoped>\n",
       "    .dataframe tbody tr th:only-of-type {\n",
       "        vertical-align: middle;\n",
       "    }\n",
       "\n",
       "    .dataframe tbody tr th {\n",
       "        vertical-align: top;\n",
       "    }\n",
       "\n",
       "    .dataframe thead th {\n",
       "        text-align: right;\n",
       "    }\n",
       "</style>\n",
       "<table border=\"1\" class=\"dataframe\">\n",
       "  <thead>\n",
       "    <tr style=\"text-align: right;\">\n",
       "      <th></th>\n",
       "      <th>Unnamed: 0</th>\n",
       "      <th>Day Strain</th>\n",
       "      <th>Resting heart rate (bpm)</th>\n",
       "      <th>Heart rate variability (ms)</th>\n",
       "      <th>Average HR (bpm)</th>\n",
       "      <th>Respiratory rate (rpm)</th>\n",
       "      <th>Asleep duration (min)</th>\n",
       "      <th>Deep (SWS) duration (min)</th>\n",
       "      <th>REM duration (min)</th>\n",
       "      <th>Recovery score %</th>\n",
       "      <th>Date</th>\n",
       "    </tr>\n",
       "  </thead>\n",
       "  <tbody>\n",
       "    <tr>\n",
       "      <th>0</th>\n",
       "      <td>0</td>\n",
       "      <td>-1.260880</td>\n",
       "      <td>0.535925</td>\n",
       "      <td>-0.628835</td>\n",
       "      <td>1.148218</td>\n",
       "      <td>-1.692366</td>\n",
       "      <td>-2.215184</td>\n",
       "      <td>-0.598923</td>\n",
       "      <td>-0.746988</td>\n",
       "      <td>34.0</td>\n",
       "      <td>2025-07-16</td>\n",
       "    </tr>\n",
       "    <tr>\n",
       "      <th>1</th>\n",
       "      <td>1</td>\n",
       "      <td>0.362915</td>\n",
       "      <td>-0.492303</td>\n",
       "      <td>0.248181</td>\n",
       "      <td>-1.895251</td>\n",
       "      <td>-1.166490</td>\n",
       "      <td>-1.644456</td>\n",
       "      <td>0.071708</td>\n",
       "      <td>-0.648916</td>\n",
       "      <td>57.0</td>\n",
       "      <td>2025-07-16</td>\n",
       "    </tr>\n",
       "    <tr>\n",
       "      <th>2</th>\n",
       "      <td>2</td>\n",
       "      <td>-1.745170</td>\n",
       "      <td>1.906897</td>\n",
       "      <td>2.137139</td>\n",
       "      <td>-0.373517</td>\n",
       "      <td>0.411140</td>\n",
       "      <td>0.546404</td>\n",
       "      <td>-0.886336</td>\n",
       "      <td>-0.477288</td>\n",
       "      <td>84.0</td>\n",
       "      <td>2025-07-15</td>\n",
       "    </tr>\n",
       "    <tr>\n",
       "      <th>3</th>\n",
       "      <td>3</td>\n",
       "      <td>-1.232392</td>\n",
       "      <td>0.878668</td>\n",
       "      <td>0.113256</td>\n",
       "      <td>1.401840</td>\n",
       "      <td>-0.640613</td>\n",
       "      <td>0.693689</td>\n",
       "      <td>-0.455216</td>\n",
       "      <td>0.111149</td>\n",
       "      <td>59.0</td>\n",
       "      <td>2025-07-14</td>\n",
       "    </tr>\n",
       "    <tr>\n",
       "      <th>4</th>\n",
       "      <td>4</td>\n",
       "      <td>-0.064399</td>\n",
       "      <td>0.878668</td>\n",
       "      <td>-0.831223</td>\n",
       "      <td>0.133728</td>\n",
       "      <td>-1.955305</td>\n",
       "      <td>1.466933</td>\n",
       "      <td>-0.598923</td>\n",
       "      <td>1.435133</td>\n",
       "      <td>35.0</td>\n",
       "      <td>2025-07-13</td>\n",
       "    </tr>\n",
       "  </tbody>\n",
       "</table>\n",
       "</div>"
      ],
      "text/plain": [
       "   Unnamed: 0  Day Strain  ...  Recovery score %        Date\n",
       "0           0   -1.260880  ...              34.0  2025-07-16\n",
       "1           1    0.362915  ...              57.0  2025-07-16\n",
       "2           2   -1.745170  ...              84.0  2025-07-15\n",
       "3           3   -1.232392  ...              59.0  2025-07-14\n",
       "4           4   -0.064399  ...              35.0  2025-07-13\n",
       "\n",
       "[5 rows x 11 columns]"
      ]
     },
     "execution_count": 9,
     "metadata": {},
     "output_type": "execute_result"
    }
   ],
   "source": [
    "#load data\n",
    "df = pd.read_csv(\"../data/feature_table.csv\")\n",
    "df.head()"
   ]
  },
  {
   "cell_type": "code",
   "execution_count": null,
   "metadata": {},
   "outputs": [],
   "source": []
  }
 ],
 "metadata": {
  "kernelspec": {
   "display_name": "jupyter-env",
   "language": "python",
   "name": "python3"
  },
  "language_info": {
   "codemirror_mode": {
    "name": "ipython",
    "version": 3
   },
   "file_extension": ".py",
   "mimetype": "text/x-python",
   "name": "python",
   "nbconvert_exporter": "python",
   "pygments_lexer": "ipython3",
   "version": "3.11.12"
  },
  "orig_nbformat": 4,
  "vscode": {
   "interpreter": {
    "hash": "1a970d483b78a2ed42ff91bb59a79a5fb544c1825644164c079c2ad007b6b45d"
   }
  }
 },
 "nbformat": 4,
 "nbformat_minor": 2
}
