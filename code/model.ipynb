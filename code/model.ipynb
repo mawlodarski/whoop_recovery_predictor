{
 "cells": [
  {
   "attachments": {},
   "cell_type": "markdown",
   "metadata": {},
   "source": [
    "# Build a linear regression model on whoop data to predict next day's recovery based on previous day metrics"
   ]
  },
  {
   "attachments": {},
   "cell_type": "markdown",
   "metadata": {},
   "source": [
    "### target performance / metric: make recovery score predictions within 10% (lower or higher) than ground truth recovery score\n",
    "\n",
    "165 days of data  \n",
    "8 features  \n",
    "1 target variable: recovery score  \n"
   ]
  },
  {
   "cell_type": "code",
   "execution_count": 10,
   "metadata": {},
   "outputs": [],
   "source": [
    "#import statements\n",
    "from sklearn.model_selection import train_test_split\n",
    "import pandas as pd\n",
    "import numpy as np"
   ]
  },
  {
   "attachments": {},
   "cell_type": "markdown",
   "metadata": {},
   "source": [
    "## load dataset"
   ]
  },
  {
   "cell_type": "code",
   "execution_count": 14,
   "metadata": {},
   "outputs": [
    {
     "data": {
      "text/html": [
       "<div>\n",
       "<style scoped>\n",
       "    .dataframe tbody tr th:only-of-type {\n",
       "        vertical-align: middle;\n",
       "    }\n",
       "\n",
       "    .dataframe tbody tr th {\n",
       "        vertical-align: top;\n",
       "    }\n",
       "\n",
       "    .dataframe thead th {\n",
       "        text-align: right;\n",
       "    }\n",
       "</style>\n",
       "<table border=\"1\" class=\"dataframe\">\n",
       "  <thead>\n",
       "    <tr style=\"text-align: right;\">\n",
       "      <th></th>\n",
       "      <th>Day Strain</th>\n",
       "      <th>Resting heart rate (bpm)</th>\n",
       "      <th>Heart rate variability (ms)</th>\n",
       "      <th>Average HR (bpm)</th>\n",
       "      <th>Respiratory rate (rpm)</th>\n",
       "      <th>Asleep duration (min)</th>\n",
       "      <th>Deep (SWS) duration (min)</th>\n",
       "      <th>REM duration (min)</th>\n",
       "      <th>Recovery score %</th>\n",
       "    </tr>\n",
       "  </thead>\n",
       "  <tbody>\n",
       "    <tr>\n",
       "      <th>0</th>\n",
       "      <td>-1.260880</td>\n",
       "      <td>0.535925</td>\n",
       "      <td>-0.628835</td>\n",
       "      <td>1.148218</td>\n",
       "      <td>-1.692366</td>\n",
       "      <td>-2.215184</td>\n",
       "      <td>-0.598923</td>\n",
       "      <td>-0.746988</td>\n",
       "      <td>34.0</td>\n",
       "    </tr>\n",
       "    <tr>\n",
       "      <th>1</th>\n",
       "      <td>0.362915</td>\n",
       "      <td>-0.492303</td>\n",
       "      <td>0.248181</td>\n",
       "      <td>-1.895251</td>\n",
       "      <td>-1.166490</td>\n",
       "      <td>-1.644456</td>\n",
       "      <td>0.071708</td>\n",
       "      <td>-0.648916</td>\n",
       "      <td>57.0</td>\n",
       "    </tr>\n",
       "    <tr>\n",
       "      <th>2</th>\n",
       "      <td>-1.745170</td>\n",
       "      <td>1.906897</td>\n",
       "      <td>2.137139</td>\n",
       "      <td>-0.373517</td>\n",
       "      <td>0.411140</td>\n",
       "      <td>0.546404</td>\n",
       "      <td>-0.886336</td>\n",
       "      <td>-0.477288</td>\n",
       "      <td>84.0</td>\n",
       "    </tr>\n",
       "    <tr>\n",
       "      <th>3</th>\n",
       "      <td>-1.232392</td>\n",
       "      <td>0.878668</td>\n",
       "      <td>0.113256</td>\n",
       "      <td>1.401840</td>\n",
       "      <td>-0.640613</td>\n",
       "      <td>0.693689</td>\n",
       "      <td>-0.455216</td>\n",
       "      <td>0.111149</td>\n",
       "      <td>59.0</td>\n",
       "    </tr>\n",
       "    <tr>\n",
       "      <th>4</th>\n",
       "      <td>-0.064399</td>\n",
       "      <td>0.878668</td>\n",
       "      <td>-0.831223</td>\n",
       "      <td>0.133728</td>\n",
       "      <td>-1.955305</td>\n",
       "      <td>1.466933</td>\n",
       "      <td>-0.598923</td>\n",
       "      <td>1.435133</td>\n",
       "      <td>35.0</td>\n",
       "    </tr>\n",
       "  </tbody>\n",
       "</table>\n",
       "</div>"
      ],
      "text/plain": [
       "   Day Strain  Resting heart rate (bpm)  ...  REM duration (min)  Recovery score %\n",
       "0   -1.260880                  0.535925  ...           -0.746988              34.0\n",
       "1    0.362915                 -0.492303  ...           -0.648916              57.0\n",
       "2   -1.745170                  1.906897  ...           -0.477288              84.0\n",
       "3   -1.232392                  0.878668  ...            0.111149              59.0\n",
       "4   -0.064399                  0.878668  ...            1.435133              35.0\n",
       "\n",
       "[5 rows x 9 columns]"
      ]
     },
     "execution_count": 14,
     "metadata": {},
     "output_type": "execute_result"
    }
   ],
   "source": [
    "#load data\n",
    "df = pd.read_csv(\"../data/feature_table.csv\")\n",
    "#remove date for training purposes, useful to investigate later when doing error analysis\n",
    "del df[\"Date\"]\n",
    "df.head()"
   ]
  },
  {
   "attachments": {},
   "cell_type": "markdown",
   "metadata": {},
   "source": [
    "## create train/test set\n",
    "\n",
    "opting for only 0.2 test size due to low number of training examples (165)"
   ]
  },
  {
   "cell_type": "code",
   "execution_count": 30,
   "metadata": {},
   "outputs": [
    {
     "name": "stdout",
     "output_type": "stream",
     "text": [
      "(166, 8) (166,)\n"
     ]
    }
   ],
   "source": [
    "#define input features X and target variable y\n",
    "features = [f for f in df.columns.to_list() if f != \"Recovery score %\"] #create list of feature names\n",
    "X, y = df[features], df[\"Recovery score %\"] #define features X and target variable y\n",
    "print(X.shape, y.shape)"
   ]
  },
  {
   "cell_type": "code",
   "execution_count": null,
   "metadata": {},
   "outputs": [],
   "source": [
    "#create train/test sets\n",
    "X_train, X_test, y_train, y_test = "
   ]
  },
  {
   "cell_type": "code",
   "execution_count": null,
   "metadata": {},
   "outputs": [],
   "source": []
  }
 ],
 "metadata": {
  "kernelspec": {
   "display_name": "jupyter-env",
   "language": "python",
   "name": "python3"
  },
  "language_info": {
   "codemirror_mode": {
    "name": "ipython",
    "version": 3
   },
   "file_extension": ".py",
   "mimetype": "text/x-python",
   "name": "python",
   "nbconvert_exporter": "python",
   "pygments_lexer": "ipython3",
   "version": "3.11.12"
  },
  "orig_nbformat": 4,
  "vscode": {
   "interpreter": {
    "hash": "1a970d483b78a2ed42ff91bb59a79a5fb544c1825644164c079c2ad007b6b45d"
   }
  }
 },
 "nbformat": 4,
 "nbformat_minor": 2
}
